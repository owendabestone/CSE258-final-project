{
 "cells": [
  {
   "cell_type": "code",
   "execution_count": 1,
   "metadata": {},
   "outputs": [],
   "source": [
    "import gzip\n",
    "import json\n",
    "from collections import defaultdict\n",
    "import math\n",
    "import scipy.optimize\n",
    "from sklearn import svm\n",
    "import numpy as np\n",
    "import string\n",
    "import random\n",
    "import string\n",
    "from sklearn import linear_model"
   ]
  },
  {
   "cell_type": "code",
   "execution_count": 2,
   "metadata": {},
   "outputs": [],
   "source": [
    "f = gzip.open(\"renttherunway_final_data.json.gz\")\n",
    "dataset1 = []\n",
    "for l in f:\n",
    "    dataset1.append(json.loads(l))"
   ]
  },
  {
   "cell_type": "code",
   "execution_count": 3,
   "metadata": {},
   "outputs": [],
   "source": [
    "train = dataset1[:180000]\n",
    "test = dataset1[180000:]"
   ]
  },
  {
   "cell_type": "code",
   "execution_count": null,
   "metadata": {},
   "outputs": [],
   "source": []
  },
  {
   "cell_type": "code",
   "execution_count": null,
   "metadata": {},
   "outputs": [],
   "source": []
  },
  {
   "cell_type": "code",
   "execution_count": 4,
   "metadata": {},
   "outputs": [],
   "source": [
    "# returns feature vector to run KNN on\n",
    "def feature_vec(d):\n",
    "    if 'height' in d:\n",
    "        h = d['height']\n",
    "        ft = int(h[0])\n",
    "        inchs = int(h[3:-1])\n",
    "        height = ft*12 + inchs\n",
    "    else:\n",
    "        height = 63\n",
    "        \n",
    "    if 'weight' in d:\n",
    "        w = d['weight']\n",
    "        weight = int(w[:-3])\n",
    "    else:\n",
    "        weight = 170\n",
    "    \n",
    "    return [height, weight, d['size']]"
   ]
  },
  {
   "cell_type": "code",
   "execution_count": 5,
   "metadata": {},
   "outputs": [
    {
     "name": "stdout",
     "output_type": "stream",
     "text": [
      "{'fit': 'small', 'user_id': '907296', 'bust size': '34b', 'item_id': '2248191', 'weight': '135lbs', 'rating': '8', 'rented for': 'work', 'review_text': \"The inside of this jacket almost reminds me of a sweatshirt like material...this is super soft and comfortable.  It's not as crisp, stiff or dressy as I thought, and maybe a little bit raggy, but overall I felt it dressed up my jeans and was easy to throw on over a dress for work.  Biggest complaint - I though the 6 would be way too big on me.  It was perfect other than the length...so short!!\", 'body type': 'straight & narrow', 'review_summary': 'Comfy and easy way to dress up a casual outfit', 'category': 'jacket', 'height': '5\\' 10\"', 'size': 12, 'age': '34', 'review_date': 'April 23, 2016'}\n",
      "\n",
      "[70, 135, 12]\n"
     ]
    }
   ],
   "source": [
    "n=434\n",
    "print(train[n])\n",
    "print()\n",
    "print(feature_vec(train[n]))"
   ]
  },
  {
   "cell_type": "code",
   "execution_count": null,
   "metadata": {},
   "outputs": [],
   "source": []
  },
  {
   "cell_type": "code",
   "execution_count": 6,
   "metadata": {},
   "outputs": [],
   "source": [
    "# useful data structures\n",
    "featuresPerUser = defaultdict()\n",
    "reviewsPerUser = defaultdict(list)\n",
    "reviewsPerItem = defaultdict(list)\n",
    "average_weight = 0\n",
    "average_height = 0\n",
    "\n",
    "for d in train:\n",
    "    if 'height' not in d: continue\n",
    "    if 'weight' not in d: continue\n",
    "    u = d['user_id']\n",
    "    i = d['item_id']\n",
    "    reviewsPerUser[u].append(d)\n",
    "    reviewsPerItem[i].append(d)\n",
    "    featuresPerUser[u] = feature_vec(d)"
   ]
  },
  {
   "cell_type": "code",
   "execution_count": 7,
   "metadata": {},
   "outputs": [],
   "source": [
    "# returns the distance between two feature vectors\n",
    "def dist(v1,v2):\n",
    "    v1 = np.array(v1)\n",
    "    v2 = np.array(v2)\n",
    "    w = [1,1.2,1.8]\n",
    "    return np.sqrt(np.sum(np.dot(v1-v2,w)**2))"
   ]
  },
  {
   "cell_type": "code",
   "execution_count": 8,
   "metadata": {},
   "outputs": [],
   "source": [
    "X_test = [(d['item_id'],feature_vec(d)) for d in test]\n",
    "y_test = [d['fit'] for d in test]"
   ]
  },
  {
   "cell_type": "code",
   "execution_count": 9,
   "metadata": {},
   "outputs": [],
   "source": [
    "# return the predicted fit and fit probabilities for a feature vec\n",
    "def KNN(k, i, x):\n",
    "    dists = []\n",
    "    for d in reviewsPerItem[i]:\n",
    "        u = d['user_id']\n",
    "        f = featuresPerUser[u]\n",
    "        dis = dist(x,f)\n",
    "        dists.append((dis,d['fit']))\n",
    "    dists.sort()\n",
    "    \n",
    "    labels = [\"small\",\"fit\",\"large\"]\n",
    "    fits = [0,0,0] # small, fit, large\n",
    "    for d,fit in dists[:k]:\n",
    "        if fit == \"small\":\n",
    "            fits[0]+=1\n",
    "        elif fit == \"fit\":\n",
    "            fits[1]+=1\n",
    "        elif fit == \"large\":\n",
    "            fits[2]+=1\n",
    "            \n",
    "    \n",
    "    max_idx = fits.index(max(fits))\n",
    "    if len(dists)==0:\n",
    "        return \"fit\", [0,1,0]\n",
    "    return labels[max_idx], np.array(fits)/min(k,len(dists))\n",
    "        "
   ]
  },
  {
   "cell_type": "code",
   "execution_count": 10,
   "metadata": {},
   "outputs": [],
   "source": [
    "def run_KNN(X,k):\n",
    "    probs_all = []\n",
    "    preds_all = []\n",
    "    for p in X:\n",
    "        i,x = p\n",
    "        pred, probs = KNN(k, i, x)\n",
    "        probs_all.append(list(probs))\n",
    "        preds_all.append(pred)\n",
    "    return np.array(probs_all), preds_all"
   ]
  },
  {
   "cell_type": "code",
   "execution_count": 11,
   "metadata": {},
   "outputs": [],
   "source": [
    "y_score, y_pred = run_KNN(X_test,k=6)"
   ]
  },
  {
   "cell_type": "code",
   "execution_count": 12,
   "metadata": {
    "scrolled": true
   },
   "outputs": [
    {
     "name": "stdout",
     "output_type": "stream",
     "text": [
      "[[0.         1.         0.        ]\n",
      " [0.         0.5        0.5       ]\n",
      " [0.         0.83333333 0.16666667]\n",
      " [0.16666667 0.83333333 0.        ]\n",
      " [0.5        0.5        0.        ]\n",
      " [0.         0.5        0.5       ]\n",
      " [0.         1.         0.        ]\n",
      " [0.         1.         0.        ]\n",
      " [0.33333333 0.66666667 0.        ]\n",
      " [0.         0.83333333 0.16666667]]\n"
     ]
    }
   ],
   "source": [
    "print(y_score[:10])"
   ]
  },
  {
   "cell_type": "code",
   "execution_count": 13,
   "metadata": {},
   "outputs": [
    {
     "name": "stdout",
     "output_type": "stream",
     "text": [
      "['fit', 'large', 'fit', 'fit', 'fit', 'large', 'fit', 'fit', 'large', 'fit']\n"
     ]
    }
   ],
   "source": [
    "print(y_test[:10])"
   ]
  },
  {
   "cell_type": "code",
   "execution_count": 14,
   "metadata": {},
   "outputs": [
    {
     "name": "stdout",
     "output_type": "stream",
     "text": [
      "['fit', 'fit', 'fit', 'fit', 'small', 'fit', 'fit', 'fit', 'fit', 'fit']\n"
     ]
    }
   ],
   "source": [
    "print(y_pred[:10])"
   ]
  },
  {
   "cell_type": "code",
   "execution_count": null,
   "metadata": {},
   "outputs": [],
   "source": []
  },
  {
   "cell_type": "code",
   "execution_count": 15,
   "metadata": {},
   "outputs": [],
   "source": [
    "### AUC"
   ]
  },
  {
   "cell_type": "code",
   "execution_count": 16,
   "metadata": {},
   "outputs": [],
   "source": [
    "from sklearn.preprocessing import label_binarize\n",
    "from sklearn.metrics import roc_curve, auc\n",
    "import matplotlib.pyplot as plt"
   ]
  },
  {
   "cell_type": "code",
   "execution_count": 17,
   "metadata": {},
   "outputs": [],
   "source": [
    "y_testb = label_binarize(y_test, classes=['small', 'fit', 'large'])"
   ]
  },
  {
   "cell_type": "code",
   "execution_count": 18,
   "metadata": {},
   "outputs": [
    {
     "data": {
      "image/png": "[encoded data removed]",
      "text/plain": [
       "<Figure size 432x288 with 1 Axes>"
      ]
     },
     "metadata": {
      "needs_background": "light"
     },
     "output_type": "display_data"
    }
   ],
   "source": [
    "n_classes=3\n",
    "labels = [\"small\",\"fit\",\"large\"]\n",
    "fpr = dict()\n",
    "tpr = dict()\n",
    "roc_auc = dict()\n",
    "lw=2\n",
    "for i in range(n_classes):\n",
    "    fpr[i], tpr[i], _ = roc_curve(y_testb[:, i], y_score[:, i])\n",
    "    roc_auc[i] = auc(fpr[i], tpr[i])\n",
    "for i in [0,1,2]:\n",
    "    plt.plot(fpr[i], tpr[i], lw=2,\n",
    "             label='ROC curve of class {0} (area = {1:0.2f})'\n",
    "             ''.format(labels[i], roc_auc[i]))\n",
    "plt.plot([0, 1], [0, 1], 'k--', lw=lw)\n",
    "plt.xlim([-0.05, 1.0])\n",
    "plt.ylim([0.0, 1.05])\n",
    "plt.xlabel('False Positive Rate')\n",
    "plt.ylabel('True Positive Rate')\n",
    "plt.title('KNN ROC curves')\n",
    "plt.legend(loc=\"lower right\")\n",
    "plt.show()"
   ]
  },
  {
   "cell_type": "code",
   "execution_count": 19,
   "metadata": {},
   "outputs": [
    {
     "data": {
      "text/plain": [
       "0.6399"
      ]
     },
     "execution_count": 19,
     "metadata": {},
     "output_type": "execute_result"
    }
   ],
   "source": [
    "0.73*(0.63)+0.12*(0.72)+0.13*(0.72)"
   ]
  },
  {
   "cell_type": "code",
   "execution_count": null,
   "metadata": {},
   "outputs": [],
   "source": []
  }
 ],
 "metadata": {
  "kernelspec": {
   "display_name": "Python 3",
   "language": "python",
   "name": "python3"
  },
  "language_info": {
   "codemirror_mode": {
    "name": "ipython",
    "version": 3
   },
   "file_extension": ".py",
   "mimetype": "text/x-python",
   "name": "python",
   "nbconvert_exporter": "python",
   "pygments_lexer": "ipython3",
   "version": "3.8.5"
  }
 },
 "nbformat": 4,
 "nbformat_minor": 4
}
