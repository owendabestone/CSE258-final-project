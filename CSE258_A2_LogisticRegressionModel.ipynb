{
 "cells": [
  {
   "cell_type": "code",
   "execution_count": 2,
   "metadata": {},
   "outputs": [],
   "source": [
    "import gzip\n",
    "import json\n",
    "from collections import defaultdict\n",
    "import math\n",
    "import scipy.optimize\n",
    "from sklearn import svm\n",
    "import numpy as np\n",
    "import string\n",
    "import random\n",
    "import string\n",
    "from sklearn import linear_model"
   ]
  },
  {
   "cell_type": "code",
   "execution_count": 3,
   "metadata": {},
   "outputs": [],
   "source": [
    "f = gzip.open(\"renttherunway_final_data.json.gz\")\n",
    "dataset1 = []\n",
    "for l in f:\n",
    "    dataset1.append(json.loads(l))"
   ]
  },
  {
   "cell_type": "code",
   "execution_count": 4,
   "metadata": {},
   "outputs": [
    {
     "data": {
      "text/plain": [
       "{'fit': 'fit',\n",
       " 'user_id': '273551',\n",
       " 'bust size': '34b',\n",
       " 'item_id': '153475',\n",
       " 'weight': '132lbs',\n",
       " 'rating': '10',\n",
       " 'rented for': 'other',\n",
       " 'review_text': 'I rented this dress for a photo shoot. The theme was \"Hollywood Glam and Big Beautiful Hats\". The dress was very comfortable and easy to move around in. It is definitely on my list to rent again for another formal event. ',\n",
       " 'body type': 'straight & narrow',\n",
       " 'review_summary': 'I felt so glamourous!!!',\n",
       " 'category': 'gown',\n",
       " 'height': '5\\' 6\"',\n",
       " 'size': 12,\n",
       " 'age': '36',\n",
       " 'review_date': 'June 18, 2013'}"
      ]
     },
     "execution_count": 4,
     "metadata": {},
     "output_type": "execute_result"
    }
   ],
   "source": [
    "dataset1[1]"
   ]
  },
  {
   "cell_type": "code",
   "execution_count": 5,
   "metadata": {},
   "outputs": [
    {
     "data": {
      "text/plain": [
       "192544"
      ]
     },
     "execution_count": 5,
     "metadata": {},
     "output_type": "execute_result"
    }
   ],
   "source": [
    "len(dataset1)"
   ]
  },
  {
   "cell_type": "markdown",
   "metadata": {},
   "source": [
    "## Baseline Logistic Regression Model"
   ]
  },
  {
   "cell_type": "markdown",
   "metadata": {},
   "source": [
    "Notes: Model does not use any user info or temporal characteristics"
   ]
  },
  {
   "cell_type": "code",
   "execution_count": 6,
   "metadata": {},
   "outputs": [],
   "source": [
    "train = dataset1[:180000]\n",
    "test = dataset1[180000:]"
   ]
  },
  {
   "cell_type": "code",
   "execution_count": 7,
   "metadata": {},
   "outputs": [],
   "source": [
    "def accuracy(predictions, y):\n",
    "    incorrect = np.sum(np.logical_xor(predictions, y))\n",
    "    total = len(y)\n",
    "    accuracy = (total - incorrect)/total\n",
    "    return accuracy"
   ]
  },
  {
   "cell_type": "code",
   "execution_count": 8,
   "metadata": {},
   "outputs": [],
   "source": [
    "def categorization_accuracy(prediction, y):\n",
    "    ls = [prediction[i]==y[i] for i in range(len(y))]\n",
    "    correct = np.sum(ls)\n",
    "    total = len(y)\n",
    "    cat_accuracy = correct / total\n",
    "    return cat_accuracy"
   ]
  },
  {
   "cell_type": "code",
   "execution_count": 9,
   "metadata": {},
   "outputs": [],
   "source": [
    "# useful data structures\n",
    "reviewsPerUser = defaultdict(list)\n",
    "reviewsPerItem = defaultdict(list)\n",
    "\n",
    "for d in train:\n",
    "    u = d['user_id']\n",
    "    i = d['item_id']\n",
    "    reviewsPerUser[u].append(d)\n",
    "    reviewsPerItem[i].append(d)"
   ]
  },
  {
   "cell_type": "code",
   "execution_count": 10,
   "metadata": {},
   "outputs": [],
   "source": [
    "def features(u,i):\n",
    "    fs = []\n",
    "    fits = [d['fit'] for d in reviewsPerItem[i]]\n",
    "    fs.append(len(fits))\n",
    "    fs.append(fits.count('fit')/(len(fits)+0.1))\n",
    "    fs.append(fits.count('small')/(len(fits)+0.1))\n",
    "    fs.append(fits.count('large')/(len(fits)+0.1))\n",
    "    return [1] + fs"
   ]
  },
  {
   "cell_type": "code",
   "execution_count": 11,
   "metadata": {},
   "outputs": [],
   "source": [
    "X_train = [features(d['user_id'],d['item_id']) for d in train]\n",
    "X_test = [features(d['user_id'],d['item_id']) for d in test]"
   ]
  },
  {
   "cell_type": "code",
   "execution_count": 12,
   "metadata": {},
   "outputs": [],
   "source": [
    "y_train_fit = [d['fit']==\"fit\" for d in train]\n",
    "y_test_fit = [d['fit']==\"fit\" for d in test]\n",
    "\n",
    "y_train_small = [d['fit']==\"small\" for d in train]\n",
    "y_test_small = [d['fit']==\"small\" for d in test]\n",
    "\n",
    "y_train_large = [d['fit']==\"large\" for d in train]\n",
    "y_test_large = [d['fit']==\"large\" for d in test]"
   ]
  },
  {
   "cell_type": "code",
   "execution_count": 13,
   "metadata": {},
   "outputs": [
    {
     "name": "stdout",
     "output_type": "stream",
     "text": [
      "0.7502391581632653\n"
     ]
    }
   ],
   "source": [
    "mod_fit = linear_model.LogisticRegression(fit_intercept=False, max_iter=200, C=1)\n",
    "mod_fit.fit(X_train,y_train_fit)\n",
    "y_test_pred = mod_fit.predict(X_test)\n",
    "print(accuracy(y_test_pred,y_test_fit))"
   ]
  },
  {
   "cell_type": "code",
   "execution_count": 14,
   "metadata": {},
   "outputs": [
    {
     "name": "stdout",
     "output_type": "stream",
     "text": [
      "0.8696588010204082\n"
     ]
    }
   ],
   "source": [
    "mod_small = linear_model.LogisticRegression(fit_intercept=False, max_iter=200, C=1)\n",
    "mod_small.fit(X_train,y_train_small)\n",
    "y_test_pred = mod_small.predict(X_test)\n",
    "print(accuracy(y_test_pred,y_test_small))"
   ]
  },
  {
   "cell_type": "code",
   "execution_count": 15,
   "metadata": {},
   "outputs": [
    {
     "name": "stdout",
     "output_type": "stream",
     "text": [
      "0.8783482142857143\n"
     ]
    }
   ],
   "source": [
    "mod_large = linear_model.LogisticRegression(fit_intercept=False, max_iter=200, C=1)\n",
    "mod_large.fit(X_train,y_train_large)\n",
    "y_test_pred = mod_large.predict(X_test)\n",
    "print(accuracy(y_test_pred,y_test_large))"
   ]
  },
  {
   "cell_type": "code",
   "execution_count": 16,
   "metadata": {},
   "outputs": [],
   "source": [
    "def class_prediction(X):\n",
    "    fit_percent = mod_fit.predict_proba(X)\n",
    "    small_percent = mod_small.predict_proba(X)\n",
    "    large_percent = mod_large.predict_proba(X)\n",
    "    \n",
    "    percents = list(zip(fit_percent[:,1],small_percent[:,1],large_percent[:,1]))\n",
    "    preds = []\n",
    "    for i in range(len(X)):\n",
    "        f,s,l = percents[i]\n",
    "        #print(f,s,l)\n",
    "        if l > s and l > f:\n",
    "            preds.append('large')\n",
    "        elif s > f and s > l:\n",
    "            preds.append('small')\n",
    "        else:\n",
    "            preds.append('fit')\n",
    "    return preds"
   ]
  },
  {
   "cell_type": "code",
   "execution_count": 17,
   "metadata": {},
   "outputs": [
    {
     "name": "stdout",
     "output_type": "stream",
     "text": [
      "Categorization Accuracy of Model:  0.75\n"
     ]
    }
   ],
   "source": [
    "y = [d['fit'] for d in test]\n",
    "preds = class_prediction(X_test)\n",
    "print(\"Categorization Accuracy of Model: \", categorization_accuracy(preds, y))"
   ]
  },
  {
   "cell_type": "code",
   "execution_count": 18,
   "metadata": {},
   "outputs": [
    {
     "name": "stdout",
     "output_type": "stream",
     "text": [
      "0.75\n"
     ]
    }
   ],
   "source": [
    "# multi class logistic regression using library (one vs rest)\n",
    "y_train = [d['fit'] for d in train]\n",
    "y_test = [d['fit'] for d in test]\n",
    "\n",
    "mod = linear_model.LogisticRegression(fit_intercept=False, max_iter=200, C=1, multi_class='ovr')\n",
    "mod.fit(X_train,y_train)\n",
    "y_test_pred = mod.predict(X_test)\n",
    "print(categorization_accuracy(y_test_pred,y_test))"
   ]
  },
  {
   "cell_type": "code",
   "execution_count": 19,
   "metadata": {},
   "outputs": [
    {
     "data": {
      "text/plain": [
       "0.737184106680416"
      ]
     },
     "execution_count": 19,
     "metadata": {},
     "output_type": "execute_result"
    }
   ],
   "source": [
    "import sklearn\n",
    "sklearn.metrics.roc_auc_score(y_test, mod.predict_proba(X_test), multi_class='ovr')"
   ]
  },
  {
   "cell_type": "code",
   "execution_count": null,
   "metadata": {},
   "outputs": [],
   "source": []
  },
  {
   "cell_type": "code",
   "execution_count": null,
   "metadata": {},
   "outputs": [],
   "source": []
  },
  {
   "cell_type": "code",
   "execution_count": 20,
   "metadata": {},
   "outputs": [],
   "source": [
    "import matplotlib.pyplot as plt\n",
    "from sklearn import svm, datasets\n",
    "from sklearn.model_selection import train_test_split\n",
    "from sklearn.preprocessing import label_binarize\n",
    "from sklearn.metrics import roc_curve, auc\n",
    "from sklearn.multiclass import OneVsRestClassifier\n",
    "from itertools import cycle\n",
    "\n",
    "# Binarize the output\n",
    "y_test = [d['fit'] for d in test]\n",
    "y_train = [d['fit'] for d in train]\n",
    "\n",
    "n_classes = 3\n",
    "\n",
    "X_train = [features(d['user_id'],d['item_id']) for d in train]\n",
    "X_test = [features(d['user_id'],d['item_id']) for d in test]"
   ]
  },
  {
   "cell_type": "code",
   "execution_count": 27,
   "metadata": {},
   "outputs": [
    {
     "name": "stdout",
     "output_type": "stream",
     "text": [
      "(12544, 3)\n"
     ]
    }
   ],
   "source": [
    "mod = linear_model.LogisticRegression(fit_intercept=False, max_iter=200, C=1, multi_class='ovr')\n",
    "mod.fit(X_train,y_train)\n",
    "y_score = mod.decision_function(X_test)\n",
    "print(y_score.shape)"
   ]
  },
  {
   "cell_type": "code",
   "execution_count": 22,
   "metadata": {},
   "outputs": [
    {
     "data": {
      "text/plain": [
       "array(['fit', 'large', 'small'], dtype='<U5')"
      ]
     },
     "execution_count": 22,
     "metadata": {},
     "output_type": "execute_result"
    }
   ],
   "source": [
    "mod.classes_"
   ]
  },
  {
   "cell_type": "code",
   "execution_count": 23,
   "metadata": {},
   "outputs": [],
   "source": [
    "y_testb = label_binarize(y_test, classes=['fit', 'large', 'small'])\n",
    "y_trainb = label_binarize(y_train, classes=['fit', 'large', 'small'])"
   ]
  },
  {
   "cell_type": "code",
   "execution_count": 25,
   "metadata": {},
   "outputs": [
    {
     "data": {
      "text/plain": [
       "array([[ 1.2359309 , -2.68996017, -1.96971428],\n",
       "       [ 0.9873461 , -1.01373088, -3.46633572],\n",
       "       [ 1.57430371, -3.08749097, -1.86983233],\n",
       "       ...,\n",
       "       [ 1.07836257, -3.41416113, -1.22970374],\n",
       "       [ 1.10626239, -1.44526476, -2.80443176],\n",
       "       [ 2.01026295, -2.64743212, -2.37509138]])"
      ]
     },
     "execution_count": 25,
     "metadata": {},
     "output_type": "execute_result"
    }
   ],
   "source": [
    "y_score"
   ]
  },
  {
   "cell_type": "code",
   "execution_count": 26,
   "metadata": {},
   "outputs": [
    {
     "data": {
      "image/png": "[encoded data removed]",
      "text/plain": [
       "<Figure size 432x288 with 1 Axes>"
      ]
     },
     "metadata": {
      "needs_background": "light"
     },
     "output_type": "display_data"
    }
   ],
   "source": [
    "fpr = dict()\n",
    "tpr = dict()\n",
    "roc_auc = dict()\n",
    "lw=2\n",
    "for i in range(n_classes):\n",
    "    fpr[i], tpr[i], _ = roc_curve(y_testb[:, i], y_score[:, i])\n",
    "    roc_auc[i] = auc(fpr[i], tpr[i])\n",
    "for i in [2,0,1]:\n",
    "    plt.plot(fpr[i], tpr[i], lw=2,\n",
    "             label='ROC curve of class {0} (area = {1:0.2f})'\n",
    "             ''.format(mod.classes_[i], roc_auc[i]))\n",
    "plt.plot([0, 1], [0, 1], 'k--', lw=lw)\n",
    "plt.xlim([-0.05, 1.0])\n",
    "plt.ylim([0.0, 1.05])\n",
    "plt.xlabel('False Positive Rate')\n",
    "plt.ylabel('True Positive Rate')\n",
    "plt.title('Logistic Regression Baseline ROC curves')\n",
    "plt.legend(loc=\"lower right\")\n",
    "plt.show()"
   ]
  },
  {
   "cell_type": "code",
   "execution_count": 25,
   "metadata": {},
   "outputs": [
    {
     "data": {
      "text/plain": [
       "0.6755"
      ]
     },
     "execution_count": 25,
     "metadata": {},
     "output_type": "execute_result"
    }
   ],
   "source": [
    "0.73*(0.66)+0.12*(0.78)+0.13*(0.77)"
   ]
  },
  {
   "cell_type": "code",
   "execution_count": null,
   "metadata": {},
   "outputs": [],
   "source": []
  }
 ],
 "metadata": {
  "kernelspec": {
   "display_name": "Python 3",
   "language": "python",
   "name": "python3"
  },
  "language_info": {
   "codemirror_mode": {
    "name": "ipython",
    "version": 3
   },
   "file_extension": ".py",
   "mimetype": "text/x-python",
   "name": "python",
   "nbconvert_exporter": "python",
   "pygments_lexer": "ipython3",
   "version": "3.8.8"
  }
 },
 "nbformat": 4,
 "nbformat_minor": 4
}
