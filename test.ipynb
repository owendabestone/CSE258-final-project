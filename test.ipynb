{
 "cells": [
  {
   "cell_type": "code",
   "execution_count": 2,
   "metadata": {},
   "outputs": [],
   "source": [
    "\n",
    "import gzip\n",
    "import math\n",
    "import numpy as  np\n",
    "import random\n",
    "import sklearn\n",
    "import string\n",
    "from collections import defaultdict\n",
    "import json\n",
    "def parseData(file):\n",
    "    for l in open(file,'r'):\n",
    "        yield json.loads(l)"
   ]
  },
  {
   "cell_type": "code",
   "execution_count": 3,
   "metadata": {},
   "outputs": [
    {
     "ename": "FileNotFoundError",
     "evalue": "[Errno 2] No such file or directory: 'renttherunway_final_data.json'",
     "output_type": "error",
     "traceback": [
      "\u001b[1;31m---------------------------------------------------------------------------\u001b[0m",
      "\u001b[1;31mFileNotFoundError\u001b[0m                         Traceback (most recent call last)",
      "\u001b[1;32m~\\AppData\\Local\\Temp\\ipykernel_3288\\340999055.py\u001b[0m in \u001b[0;36m<module>\u001b[1;34m\u001b[0m\n\u001b[0;32m      1\u001b[0m \u001b[0mdataset2\u001b[0m \u001b[1;33m=\u001b[0m \u001b[1;33m[\u001b[0m\u001b[1;33m]\u001b[0m\u001b[1;33m\u001b[0m\u001b[1;33m\u001b[0m\u001b[0m\n\u001b[1;32m----> 2\u001b[1;33m \u001b[0mdataset2\u001b[0m \u001b[1;33m=\u001b[0m \u001b[0mlist\u001b[0m\u001b[1;33m(\u001b[0m\u001b[0mparseData\u001b[0m\u001b[1;33m(\u001b[0m\u001b[1;34m'renttherunway_final_data.json'\u001b[0m\u001b[1;33m)\u001b[0m\u001b[1;33m)\u001b[0m\u001b[1;33m\u001b[0m\u001b[1;33m\u001b[0m\u001b[0m\n\u001b[0m\u001b[0;32m      3\u001b[0m \u001b[1;33m\u001b[0m\u001b[0m\n\u001b[0;32m      4\u001b[0m \u001b[0mdataset2\u001b[0m\u001b[1;33m[\u001b[0m\u001b[1;36m0\u001b[0m\u001b[1;33m]\u001b[0m\u001b[1;33m\u001b[0m\u001b[1;33m\u001b[0m\u001b[0m\n",
      "\u001b[1;32m~\\AppData\\Local\\Temp\\ipykernel_3288\\2402408668.py\u001b[0m in \u001b[0;36mparseData\u001b[1;34m(file)\u001b[0m\n\u001b[0;32m      8\u001b[0m \u001b[1;32mimport\u001b[0m \u001b[0mjson\u001b[0m\u001b[1;33m\u001b[0m\u001b[1;33m\u001b[0m\u001b[0m\n\u001b[0;32m      9\u001b[0m \u001b[1;32mdef\u001b[0m \u001b[0mparseData\u001b[0m\u001b[1;33m(\u001b[0m\u001b[0mfile\u001b[0m\u001b[1;33m)\u001b[0m\u001b[1;33m:\u001b[0m\u001b[1;33m\u001b[0m\u001b[1;33m\u001b[0m\u001b[0m\n\u001b[1;32m---> 10\u001b[1;33m     \u001b[1;32mfor\u001b[0m \u001b[0ml\u001b[0m \u001b[1;32min\u001b[0m \u001b[0mopen\u001b[0m\u001b[1;33m(\u001b[0m\u001b[0mfile\u001b[0m\u001b[1;33m,\u001b[0m\u001b[1;34m'r'\u001b[0m\u001b[1;33m)\u001b[0m\u001b[1;33m:\u001b[0m\u001b[1;33m\u001b[0m\u001b[1;33m\u001b[0m\u001b[0m\n\u001b[0m\u001b[0;32m     11\u001b[0m         \u001b[1;32myield\u001b[0m \u001b[0mjson\u001b[0m\u001b[1;33m.\u001b[0m\u001b[0mloads\u001b[0m\u001b[1;33m(\u001b[0m\u001b[0ml\u001b[0m\u001b[1;33m)\u001b[0m\u001b[1;33m\u001b[0m\u001b[1;33m\u001b[0m\u001b[0m\n",
      "\u001b[1;31mFileNotFoundError\u001b[0m: [Errno 2] No such file or directory: 'renttherunway_final_data.json'"
     ]
    }
   ],
   "source": [
    "\n",
    "\n",
    "dataset2 = []\n",
    "dataset2 = list(parseData('renttherunway_final_data.json'))\n",
    "\n",
    "dataset2[0]"
   ]
  },
  {
   "cell_type": "code",
   "execution_count": null,
   "metadata": {},
   "outputs": [
    {
     "name": "stdout",
     "output_type": "stream",
     "text": [
      "Size of the dataset : 82790\n",
      "Size of the user base:  105571\n",
      "Size of the item base:  5850\n"
     ]
    }
   ],
   "source": [
    "fittingPerUser = defaultdict(list)\n",
    "fittingPerItem = defaultdict(list)\n",
    "\n",
    "for entry in dataset2:\n",
    "    item_id = entry['item_id']\n",
    "    user_id = entry['user_id']\n",
    "    fit = entry['fit']\n",
    "    fittingPerUser[user_id].append((item_id,fit))\n",
    "    fittingPerItem[item_id].append((user_id,fit))\n",
    "\n",
    "print('Size of the dataset :', len(dataset2))\n",
    "print('Size of the user base: ', len(fittingPerUser))\n",
    "print('Size of the item base: ', len(fittingPerItem))"
   ]
  },
  {
   "cell_type": "code",
   "execution_count": 63,
   "metadata": {},
   "outputs": [
    {
     "name": "stdout",
     "output_type": "stream",
     "text": [
      "average fitting per user : 1.8238341968911918\n",
      "average fitting per item : 32.91350427350427\n"
     ]
    }
   ],
   "source": [
    "lengths = []\n",
    "for u in fittingPerUser:\n",
    "    lengths.append(len(fittingPerUser[u]))\n",
    "print(\"average fitting per user :\", np.array(lengths).mean())\n",
    "print('number of unique users: ', len(lengths))\n",
    "lengths = []\n",
    "for i in fittingPerItem:\n",
    "    lengths.append(len(fittingPerItem[i]))\n",
    "\n",
    "print(\"average fitting per item :\", np.array(lengths).mean())\n",
    "print('number of unique items: ', len(lengths))\n",
    "\n",
    "print('-----------------------------')\n",
    "print(\"Remove users with too few reviews\")\n",
    "print('-----------------------------')\n",
    "\n",
    "lengths = []\n",
    "for u in fittingPerUser:\n",
    "    if len(fittingPerUser[u])>2:\n",
    "        lengths.append(len(fittingPerUser[u]))\n",
    "print(\"average fitting per user post filterng:\", np.array(lengths).mean())\n",
    "print(\"total number of users post filtering :\", len(lengths))\n"
   ]
  },
  {
   "cell_type": "code",
   "execution_count": 66,
   "metadata": {},
   "outputs": [
    {
     "name": "stdout",
     "output_type": "stream",
     "text": [
      "average fitting per user : 5.3576835730507195\n",
      "15852\n",
      "84930\n",
      "average fitting per item : 32.91350427350427\n"
     ]
    }
   ],
   "source": [
    "lengths = []\n",
    "total_reviews = 0\n",
    "for u in fittingPerUser:\n",
    "    if len(fittingPerUser[u])>2:\n",
    "        lengths.append(len(fittingPerUser[u]))\n",
    "        total_reviews+= len(fittingPerUser[u])\n",
    "print(\"average fitting per user after filtering:\", np.array(lengths).mean())\n",
    "print(len(lengths))\n",
    "print(total_reviews)\n",
    "lengths = []\n",
    "for i in fittingPerItem:\n",
    "    lengths.append(len(fittingPerItem[i]))\n",
    "\n",
    "print(\"average fitting per item :\", np.array(lengths).mean())"
   ]
  },
  {
   "cell_type": "code",
   "execution_count": 33,
   "metadata": {},
   "outputs": [
    {
     "data": {
      "text/plain": [
       "1378"
      ]
     },
     "execution_count": 33,
     "metadata": {},
     "output_type": "execute_result"
    }
   ],
   "source": [
    "users = list(ratingsPerUser.keys())\n",
    "items = list(ratingsPerItem.keys())\n",
    "userIDs = {}\n",
    "itemIDs = {}\n",
    "for u,b,r in allRatings:\n",
    "    if not u in userIDs: userIDs[u] = len(userIDs)\n",
    "    if not b in itemIDs: itemIDs[b] = len(itemIDs)\n",
    "    \n",
    "nTrain = len(ratingsTrain)\n",
    "nTest = len(ratingsValid) \n",
    "interactionsTrain = ratingsTrain\n",
    "interactionsTest = ratingsValid\n",
    "\n",
    "# %%\n",
    "import tensorflow as tf\n",
    "optimizer = tf.keras.optimizers.Adam(0.0050)\n",
    "mean_rating = np.array([i[2] for i in allRatings]).mean()\n",
    "print(mean_rating)\n",
    "\n",
    "class LatentFactorModel(tf.keras.Model):\n",
    "    def __init__(self, mu, K, lamb1, lamb2):\n",
    "        super(LatentFactorModel, self).__init__()\n",
    "        # Initialize to average\n",
    "        self.alpha = tf.Variable(mu,dtype='float32')\n",
    "        # Initialize to small random values\n",
    "        self.betaU = tf.Variable(tf.random.normal([len(userIDs)],stddev=0.001),dtype='float32')\n",
    "        self.betaI = tf.Variable(tf.random.normal([len(itemIDs)],stddev=0.001),dtype='float32')\n",
    "        self.gammaU = tf.Variable(tf.random.normal([len(userIDs),K],stddev=0.001),dtype='float32')\n",
    "        self.gammaI = tf.Variable(tf.random.normal([len(itemIDs),K],stddev=0.001),dtype='float32')\n",
    "        self.lamb1 = lamb1\n",
    "        self.lamb2 = lamb2\n",
    "\n",
    "    # Prediction for a single instance (useful for evaluation)\n",
    "    def predict(self, u, i):\n",
    "        p = self.alpha + self.betaU[u] + self.betaI[i] +\\\n",
    "            tf.tensordot(self.gammaU[u], self.gammaI[i], 1)\n",
    "        return p\n",
    "\n",
    "    # Regularizer\n",
    "    def reg(self):\n",
    "        return self.lamb1 * (tf.reduce_sum(self.betaU**2) +\\\n",
    "                            tf.reduce_sum(self.betaI**2)) +\\\n",
    "                            self.lamb2*(tf.reduce_sum(self.gammaU**2) +\\\n",
    "                            tf.reduce_sum(self.gammaI**2))\n",
    "    \n",
    "    # Prediction for a sample of instances\n",
    "    def predictSample(self, sampleU, sampleI):\n",
    "        u = tf.convert_to_tensor(sampleU, dtype=tf.int32)\n",
    "        i = tf.convert_to_tensor(sampleI, dtype=tf.int32)\n",
    "        beta_u = tf.nn.embedding_lookup(self.betaU, u)\n",
    "        \n",
    "        beta_i = tf.nn.embedding_lookup(self.betaI, i)\n",
    "        gamma_u = tf.nn.embedding_lookup(self.gammaU, u)\n",
    "        gamma_i = tf.nn.embedding_lookup(self.gammaI, i)\n",
    "        pred = self.alpha + beta_u + beta_i +\\\n",
    "               tf.reduce_sum(tf.multiply(gamma_u, gamma_i), 1)\n",
    "        return pred\n",
    "    \n",
    "    # Loss\n",
    "    def call(self, sampleU, sampleI, sampleR):\n",
    "        pred = self.predictSample(sampleU, sampleI)\n",
    "        r = tf.convert_to_tensor(sampleR, dtype=tf.float32)\n",
    "        return tf.nn.l2_loss(pred - r) / len(sampleR)\n",
    "\n",
    "# %%\n",
    "def trainingStep(model, interactions):\n",
    "    Nsamples =65000\n",
    "    with tf.GradientTape() as tape:\n",
    "        sampleU, sampleI, sampleR = [], [], []\n",
    "        for _ in range(Nsamples):\n",
    "            u,i,r = random.choice(interactions)\n",
    "            sampleU.append(userIDs[u])\n",
    "            sampleI.append(itemIDs[i])\n",
    "            sampleR.append(r)\n",
    "\n",
    "        loss = model(sampleU,sampleI,sampleR)\n",
    "        loss += model.reg()\n",
    "    gradients = tape.gradient(loss, model.trainable_variables)\n",
    "    optimizer.apply_gradients((grad, var) for\n",
    "                              (grad, var) in zip(gradients, model.trainable_variables)\n",
    "                              if grad is not None)\n",
    "    return loss.numpy()\n",
    "\n",
    "# %%\n",
    "modelLFM = LatentFactorModel(mean_rating, 5, 0.000008,0.000038)\n",
    "for i in range(210):\n",
    "    obj = trainingStep(modelLFM, allRatings)\n",
    "    if (i % 10 == 9): print(\"iteration \" + str(i+1) + \", objective = \" + str(obj))\n",
    "\n"
   ]
  },
  {
   "cell_type": "code",
   "execution_count": null,
   "metadata": {},
   "outputs": [],
   "source": []
  }
 ],
 "metadata": {
  "kernelspec": {
   "display_name": "Python 3.9.7 ('base')",
   "language": "python",
   "name": "python3"
  },
  "language_info": {
   "codemirror_mode": {
    "name": "ipython",
    "version": 3
   },
   "file_extension": ".py",
   "mimetype": "text/x-python",
   "name": "python",
   "nbconvert_exporter": "python",
   "pygments_lexer": "ipython3",
   "version": "3.9.7"
  },
  "orig_nbformat": 4,
  "vscode": {
   "interpreter": {
    "hash": "ad2bdc8ecc057115af97d19610ffacc2b4e99fae6737bb82f5d7fb13d2f2c186"
   }
  }
 },
 "nbformat": 4,
 "nbformat_minor": 2
}
