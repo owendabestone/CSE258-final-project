{
 "cells": [
  {
   "cell_type": "code",
   "execution_count": 25,
   "metadata": {},
   "outputs": [],
   "source": [
    "\n",
    "import gzip\n",
    "import math\n",
    "import numpy as  np\n",
    "import random\n",
    "import sklearn\n",
    "import string\n",
    "from collections import defaultdict\n",
    "import json\n",
    "def parseData(file):\n",
    "    for l in open(file,'r'):\n",
    "        yield json.loads(l)"
   ]
  },
  {
   "cell_type": "code",
   "execution_count": 37,
   "metadata": {},
   "outputs": [],
   "source": [
    "dataset = []\n",
    "punctuation = set(string.punctuation)\n",
    "f = gzip.open(\"modcloth_final_data.json.gz\")\n",
    "for l in f:\n",
    "    d = eval(l)\n",
    "    dataset.append(d)"
   ]
  },
  {
   "cell_type": "markdown",
   "metadata": {},
   "source": []
  },
  {
   "cell_type": "code",
   "execution_count": 38,
   "metadata": {},
   "outputs": [
    {
     "name": "stdout",
     "output_type": "stream",
     "text": [
      "Size of the dataset : 82790\n",
      "Size of the user base:  47958\n",
      "Size of the item base:  1378\n"
     ]
    }
   ],
   "source": [
    "fittingPerUser = defaultdict(list)\n",
    "fittingPerItem = defaultdict(list)\n",
    "\n",
    "for entry in dataset:\n",
    "    item_id = entry['item_id']\n",
    "    user_id = entry['user_id']\n",
    "    fit = entry['fit']\n",
    "    fittingPerUser[user_id].append((item_id,fit))\n",
    "    fittingPerItem[item_id].append((user_id,fit))\n",
    "\n",
    "print('Size of the dataset :', len(dataset))\n",
    "print('Size of the user base: ', len(fittingPerUser))\n",
    "print('Size of the item base: ', len(fittingPerItem))"
   ]
  },
  {
   "cell_type": "code",
   "execution_count": 48,
   "metadata": {},
   "outputs": [
    {
     "name": "stdout",
     "output_type": "stream",
     "text": [
      "average fitting per user : 1.7263021810751074\n",
      "number of unique users:  47958\n",
      "average fitting per item : 60.07982583454282\n",
      "number of unique items:  1378\n",
      "-----------------------------\n",
      "Remove users with too few reviews\n",
      "-----------------------------\n",
      "average fitting per user post filterng: 4.525805147554238\n",
      "total number of users post filtering : 7421\n"
     ]
    }
   ],
   "source": [
    "lengths = []\n",
    "for u in fittingPerUser:\n",
    "    lengths.append(len(fittingPerUser[u]))\n",
    "print(\"average fitting per user :\", np.array(lengths).mean())\n",
    "print('number of unique users: ', len(lengths))\n",
    "lengths = []\n",
    "for i in fittingPerItem:\n",
    "    lengths.append(len(fittingPerItem[i]))\n",
    "\n",
    "print(\"average fitting per item :\", np.array(lengths).mean())\n",
    "print('number of unique items: ', len(lengths))\n",
    "\n",
    "print('-----------------------------')\n",
    "print(\"Remove users with too few reviews\")\n",
    "print('-----------------------------')\n",
    "\n",
    "lengths = []\n",
    "for u in fittingPerUser:\n",
    "    if len(fittingPerUser[u])>2:\n",
    "        lengths.append(len(fittingPerUser[u]))\n",
    "print(\"average fitting per user post filterng:\", np.array(lengths).mean())\n",
    "print(\"total number of users post filtering :\", len(lengths))\n"
   ]
  },
  {
   "cell_type": "code",
   "execution_count": 59,
   "metadata": {},
   "outputs": [
    {
     "data": {
      "text/plain": [
       "{'fit': 'fit',\n",
       " 'user_id': '420272',\n",
       " 'bust size': '34d',\n",
       " 'item_id': '2260466',\n",
       " 'weight': '137lbs',\n",
       " 'rating': '10',\n",
       " 'rented for': 'vacation',\n",
       " 'review_text': \"An adorable romper! Belt and zipper were a little hard to navigate in a full day of wear/bathroom use, but that's to be expected. Wish it had pockets, but other than that-- absolutely perfect! I got a million compliments.\",\n",
       " 'body type': 'hourglass',\n",
       " 'review_summary': 'So many compliments!',\n",
       " 'category': 'romper',\n",
       " 'height': '5\\' 8\"',\n",
       " 'size': 14,\n",
       " 'age': '28',\n",
       " 'review_date': 'April 20, 2016'}"
      ]
     },
     "execution_count": 59,
     "metadata": {},
     "output_type": "execute_result"
    }
   ],
   "source": [
    "\n",
    "\n",
    "dataset2 = []\n",
    "dataset2 = list(parseData('renttherunway_final_data.json'))\n",
    "\n",
    "dataset2[0]"
   ]
  },
  {
   "cell_type": "code",
   "execution_count": 60,
   "metadata": {},
   "outputs": [
    {
     "ename": "KeyError",
     "evalue": "'body type'",
     "output_type": "error",
     "traceback": [
      "\u001b[1;31m---------------------------------------------------------------------------\u001b[0m",
      "\u001b[1;31mKeyError\u001b[0m                                  Traceback (most recent call last)",
      "\u001b[1;32m~\\AppData\\Local\\Temp\\ipykernel_2076\\2895354955.py\u001b[0m in \u001b[0;36m<module>\u001b[1;34m\u001b[0m\n\u001b[0;32m      2\u001b[0m \u001b[1;32mfor\u001b[0m \u001b[0mi\u001b[0m \u001b[1;32min\u001b[0m \u001b[0mdataset2\u001b[0m\u001b[1;33m:\u001b[0m\u001b[1;33m\u001b[0m\u001b[1;33m\u001b[0m\u001b[0m\n\u001b[0;32m      3\u001b[0m \u001b[1;33m\u001b[0m\u001b[0m\n\u001b[1;32m----> 4\u001b[1;33m     \u001b[0mbt\u001b[0m\u001b[1;33m.\u001b[0m\u001b[0madd\u001b[0m\u001b[1;33m(\u001b[0m\u001b[0mi\u001b[0m\u001b[1;33m[\u001b[0m\u001b[1;34m'body type'\u001b[0m\u001b[1;33m]\u001b[0m\u001b[1;33m)\u001b[0m\u001b[1;33m\u001b[0m\u001b[1;33m\u001b[0m\u001b[0m\n\u001b[0m\u001b[0;32m      5\u001b[0m \u001b[1;33m\u001b[0m\u001b[0m\n",
      "\u001b[1;31mKeyError\u001b[0m: 'body type'"
     ]
    }
   ],
   "source": [
    "bt = set()\n",
    "for i in dataset2:\n",
    "    \n",
    "    bt.add(i['body type'])\n",
    "    "
   ]
  },
  {
   "cell_type": "code",
   "execution_count": 62,
   "metadata": {},
   "outputs": [
    {
     "name": "stdout",
     "output_type": "stream",
     "text": [
      "Size of the dataset : 82790\n",
      "Size of the user base:  105571\n",
      "Size of the item base:  5850\n"
     ]
    }
   ],
   "source": [
    "fittingPerUser = defaultdict(list)\n",
    "fittingPerItem = defaultdict(list)\n",
    "\n",
    "for entry in dataset2:\n",
    "    item_id = entry['item_id']\n",
    "    user_id = entry['user_id']\n",
    "    fit = entry['fit']\n",
    "    fittingPerUser[user_id].append((item_id,fit))\n",
    "    fittingPerItem[item_id].append((user_id,fit))\n",
    "\n",
    "print('Size of the dataset :', len(dataset))\n",
    "print('Size of the user base: ', len(fittingPerUser))\n",
    "print('Size of the item base: ', len(fittingPerItem))"
   ]
  },
  {
   "cell_type": "code",
   "execution_count": 63,
   "metadata": {},
   "outputs": [
    {
     "name": "stdout",
     "output_type": "stream",
     "text": [
      "average fitting per user : 1.8238341968911918\n",
      "average fitting per item : 32.91350427350427\n"
     ]
    }
   ],
   "source": [
    "lengths = []\n",
    "for u in fittingPerUser:\n",
    "    lengths.append(len(fittingPerUser[u]))\n",
    "print(\"average fitting per user :\", np.array(lengths).mean())\n",
    "lengths = []\n",
    "for i in fittingPerItem:\n",
    "    lengths.append(len(fittingPerItem[i]))\n",
    "\n",
    "print(\"average fitting per item :\", np.array(lengths).mean())\n",
    "\n"
   ]
  },
  {
   "cell_type": "code",
   "execution_count": 66,
   "metadata": {},
   "outputs": [
    {
     "name": "stdout",
     "output_type": "stream",
     "text": [
      "average fitting per user : 5.3576835730507195\n",
      "15852\n",
      "84930\n",
      "average fitting per item : 32.91350427350427\n"
     ]
    }
   ],
   "source": [
    "lengths = []\n",
    "total_reviews = 0\n",
    "for u in fittingPerUser:\n",
    "    if len(fittingPerUser[u])>2:\n",
    "        lengths.append(len(fittingPerUser[u]))\n",
    "        total_reviews+= len(fittingPerUser[u])\n",
    "print(\"average fitting per user :\", np.array(lengths).mean())\n",
    "print(len(lengths))\n",
    "print(total_reviews)\n",
    "lengths = []\n",
    "for i in fittingPerItem:\n",
    "    lengths.append(len(fittingPerItem[i]))\n",
    "\n",
    "print(\"average fitting per item :\", np.array(lengths).mean())"
   ]
  },
  {
   "cell_type": "code",
   "execution_count": 33,
   "metadata": {},
   "outputs": [
    {
     "data": {
      "text/plain": [
       "1378"
      ]
     },
     "execution_count": 33,
     "metadata": {},
     "output_type": "execute_result"
    }
   ],
   "source": [
    "len(lengths)"
   ]
  },
  {
   "cell_type": "code",
   "execution_count": null,
   "metadata": {},
   "outputs": [],
   "source": []
  }
 ],
 "metadata": {
  "kernelspec": {
   "display_name": "Python 3.9.7 ('base')",
   "language": "python",
   "name": "python3"
  },
  "language_info": {
   "codemirror_mode": {
    "name": "ipython",
    "version": 3
   },
   "file_extension": ".py",
   "mimetype": "text/x-python",
   "name": "python",
   "nbconvert_exporter": "python",
   "pygments_lexer": "ipython3",
   "version": "3.9.7"
  },
  "orig_nbformat": 4,
  "vscode": {
   "interpreter": {
    "hash": "ad2bdc8ecc057115af97d19610ffacc2b4e99fae6737bb82f5d7fb13d2f2c186"
   }
  }
 },
 "nbformat": 4,
 "nbformat_minor": 2
}
