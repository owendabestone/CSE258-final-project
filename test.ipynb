{
 "cells": [
  {
   "cell_type": "markdown",
   "metadata": {},
   "source": []
  },
  {
   "cell_type": "code",
   "execution_count": 17,
   "metadata": {},
   "outputs": [],
   "source": [
    "\n",
    "import gzip\n",
    "import math\n",
    "import numpy as  np\n",
    "import random\n",
    "import sklearn\n",
    "import string\n",
    "from collections import defaultdict\n",
    "import json\n",
    "from sklearn.metrics import roc_auc_score, roc_curve\n",
    "import matplotlib.pyplot as plt\n",
    "\n",
    "def parseData(file):\n",
    "    for l in open(file,'r'):\n",
    "        yield json.loads(l)"
   ]
  },
  {
   "cell_type": "code",
   "execution_count": 18,
   "metadata": {},
   "outputs": [
    {
     "data": {
      "text/plain": [
       "{'fit': 'fit',\n",
       " 'user_id': '420272',\n",
       " 'bust size': '34d',\n",
       " 'item_id': '2260466',\n",
       " 'weight': '137lbs',\n",
       " 'rating': '10',\n",
       " 'rented for': 'vacation',\n",
       " 'review_text': \"An adorable romper! Belt and zipper were a little hard to navigate in a full day of wear/bathroom use, but that's to be expected. Wish it had pockets, but other than that-- absolutely perfect! I got a million compliments.\",\n",
       " 'body type': 'hourglass',\n",
       " 'review_summary': 'So many compliments!',\n",
       " 'category': 'romper',\n",
       " 'height': '5\\' 8\"',\n",
       " 'size': 14,\n",
       " 'age': '28',\n",
       " 'review_date': 'April 20, 2016'}"
      ]
     },
     "execution_count": 18,
     "metadata": {},
     "output_type": "execute_result"
    }
   ],
   "source": [
    "\n",
    "\n",
    "dataset2 = []\n",
    "dataset2 = list(parseData('renttherunway_final_data.json'))\n",
    "\n",
    "dataset2[0]"
   ]
  },
  {
   "cell_type": "code",
   "execution_count": 36,
   "metadata": {},
   "outputs": [
    {
     "name": "stdout",
     "output_type": "stream",
     "text": [
      "Percentage of user did not enter weight:  0.15571505733754362\n",
      "Percentage of user did not enter height:  0.0035160794415821837\n",
      "Percentage of user did not enter bust size:  0.09561970250955626\n"
     ]
    }
   ],
   "source": [
    "count = 0 \n",
    "for i in dataset2:\n",
    "    try:\n",
    "        _ = i['weight']\n",
    "    except:\n",
    "        count+=1\n",
    "print(\"Percentage of user did not enter weight: \" , count/len(dataset2))\n",
    "\n",
    "count = 0 \n",
    "for i in dataset2:\n",
    "    try:\n",
    "        _ = i['height']\n",
    "    except:\n",
    "        count+=1\n",
    "print(\"Percentage of user did not enter height: \" , count/len(dataset2))\n",
    "\n",
    "count = 0 \n",
    "for i in dataset2:\n",
    "    try:\n",
    "        _ = i['bust size']\n",
    "    except:\n",
    "        count+=1\n",
    "print(\"Percentage of user did not enter bust size: \" , count/len(dataset2))"
   ]
  },
  {
   "cell_type": "code",
   "execution_count": 19,
   "metadata": {},
   "outputs": [
    {
     "data": {
      "text/plain": [
       "defaultdict(int, {'fit': 142058, 'small': 25779, 'large': 24707})"
      ]
     },
     "execution_count": 19,
     "metadata": {},
     "output_type": "execute_result"
    }
   ],
   "source": [
    "## We see a large percentage of users selected fit. \n",
    "\n",
    "\n",
    "fit_count = defaultdict(int)\n",
    "for i in dataset2:\n",
    "    fit_count[i['fit']]+=1\n",
    "fit_count"
   ]
  },
  {
   "cell_type": "code",
   "execution_count": 20,
   "metadata": {},
   "outputs": [],
   "source": [
    "fittingPerUser = defaultdict(list)\n",
    "fittingPerItem = defaultdict(list)\n",
    "allFitting = []\n",
    "for entry in dataset2:\n",
    "    item_id = entry['item_id']\n",
    "    user_id = entry['user_id']\n",
    "    fit = entry['fit']\n",
    "    if fit == \"fit\":\n",
    "        fit = 3\n",
    "    elif fit == \"small\":\n",
    "        fit = 1\n",
    "    elif fit == 'large':\n",
    "        fit = 5\n",
    "        \n",
    "    fittingPerUser[user_id].append((item_id,fit))\n",
    "    fittingPerItem[item_id].append((user_id,fit))\n",
    "    allFitting.append((user_id, item_id, fit ))"
   ]
  },
  {
   "cell_type": "code",
   "execution_count": 21,
   "metadata": {},
   "outputs": [
    {
     "name": "stdout",
     "output_type": "stream",
     "text": [
      "Size of the dataset : 192544\n",
      "average fitting per user : 1.8238341968911918\n",
      "number of unique users:  105571\n",
      "average fitting per item : 32.91350427350427\n",
      "number of unique items:  5850\n",
      "-----------------------------\n",
      "Remove users with too few reviews\n",
      "-----------------------------\n",
      "average fitting per user post filterng : 5.3576835730507195\n",
      "total number of users post filtering : 15852\n",
      "average fitting per item post filterng : 36.93733127651369\n",
      "total number of items post filtering : 5186\n"
     ]
    }
   ],
   "source": [
    "\n",
    "print('Size of the dataset :', len(dataset2))\n",
    "lengths = []\n",
    "for u in fittingPerUser:\n",
    "    lengths.append(len(fittingPerUser[u]))\n",
    "print(\"average fitting per user :\", np.array(lengths).mean())\n",
    "print('number of unique users: ', len(lengths))\n",
    "lengths = []\n",
    "for i in fittingPerItem:\n",
    "    lengths.append(len(fittingPerItem[i]))\n",
    "\n",
    "print(\"average fitting per item :\", np.array(lengths).mean())\n",
    "print('number of unique items: ', len(lengths))\n",
    "\n",
    "print('-----------------------------')\n",
    "print(\"Remove users with too few reviews\")\n",
    "print('-----------------------------')\n",
    "removed_user_set = set()\n",
    "lengths = []\n",
    "for u in fittingPerUser:\n",
    "    if len(fittingPerUser[u])>2:\n",
    "        lengths.append(len(fittingPerUser[u]))\n",
    "    else:\n",
    "        removed_user_set.add(u)\n",
    "        \n",
    "print(\"average fitting per user post filterng :\", np.array(lengths).mean())\n",
    "print(\"total number of users post filtering :\", len(lengths))\n",
    "\n",
    "removed_item_set = set()\n",
    "lengths = []\n",
    "for i in fittingPerItem:\n",
    "    if len(fittingPerItem[i])>2:\n",
    "        lengths.append(len(fittingPerItem[i]))\n",
    "    else:\n",
    "        removed_item_set.add(i)\n",
    "print(\"average fitting per item post filterng :\", np.array(lengths).mean())\n",
    "print(\"total number of items post filtering :\", len(lengths))\n"
   ]
  },
  {
   "cell_type": "code",
   "execution_count": 24,
   "metadata": {},
   "outputs": [
    {
     "name": "stdout",
     "output_type": "stream",
     "text": [
      "Length of pre-cleaned data: 192544\n",
      "Length of cleaned data: 84225\n"
     ]
    }
   ],
   "source": [
    "users = list(fittingPerUser.keys())\n",
    "items = list(fittingPerItem.keys())\n",
    "userIDs = {}\n",
    "itemIDs = {}\n",
    "print(\"Length of pre-cleaned data:\", len(allFitting))\n",
    "for u,i,r in allFitting:\n",
    "    if u in removed_user_set or i in removed_item_set :\n",
    "        continue\n",
    "    if not u in userIDs: userIDs[u] = len(userIDs)\n",
    "    if not i in itemIDs: itemIDs[i] = len(itemIDs)\n",
    "    \n",
    "random.shuffle(allFitting)\n",
    "filtered_allFitting = []\n",
    "for u,i,f in allFitting:\n",
    "    if u in removed_user_set or i in removed_item_set :\n",
    "        continue\n",
    "    filtered_allFitting.append((u,i,f))\n",
    "print(\"Length of cleaned data:\", len(filtered_allFitting))\n",
    "# filtered_allFitting \n",
    "nTrain = int(len(filtered_allFitting)*0.8)\n",
    "nTest = int(len(filtered_allFitting)-nTrain)\n",
    "interactionsTrain =  filtered_allFitting[:nTrain]\n",
    "interactionsTest = filtered_allFitting[nTrain:]\n",
    "\n",
    "# %%\n",
    "import tensorflow as tf\n",
    "optimizer = tf.keras.optimizers.Adam(0.004)\n",
    "mean_fitting = np.array([i[2] for i in allFitting]).mean()\n",
    "\n",
    "\n",
    "class LatentFactorModel(tf.keras.Model):\n",
    "    def __init__(self, mu, K, lamb1, lamb2):\n",
    "        super(LatentFactorModel, self).__init__()\n",
    "        # Initialize to average\n",
    "        self.alpha = tf.Variable(mu,dtype='float32')\n",
    "        # Initialize to small random values\n",
    "        self.betaU = tf.Variable(tf.random.normal([len(userIDs)],stddev=0.001),dtype='float32')\n",
    "        self.betaI = tf.Variable(tf.random.normal([len(itemIDs)],stddev=0.001),dtype='float32')\n",
    "        self.gammaU = tf.Variable(tf.random.normal([len(userIDs),K],stddev=0.001),dtype='float32')\n",
    "        self.gammaI = tf.Variable(tf.random.normal([len(itemIDs),K],stddev=0.001),dtype='float32')\n",
    "        self.lamb1 = lamb1\n",
    "        self.lamb2 = lamb2\n",
    "\n",
    "    # Prediction for a single instance (useful for evaluation)\n",
    "    def predict(self, u, i):\n",
    "        p = self.alpha + self.betaU[u] + self.betaI[i] +\\\n",
    "            tf.tensordot(self.gammaU[u], self.gammaI[i], 1)\n",
    "        return p\n",
    "\n",
    "    # Regularizer\n",
    "    def reg(self):\n",
    "        return self.lamb1 * (tf.reduce_sum(self.betaU**2) +\\\n",
    "                            tf.reduce_sum(self.betaI**2)) +\\\n",
    "                            self.lamb2*(tf.reduce_sum(self.gammaU**2) +\\\n",
    "                            tf.reduce_sum(self.gammaI**2))\n",
    "    \n",
    "    # Prediction for a sample of instances\n",
    "    def predictSample(self, sampleU, sampleI):\n",
    "        u = tf.convert_to_tensor(sampleU, dtype=tf.int32)\n",
    "        i = tf.convert_to_tensor(sampleI, dtype=tf.int32)\n",
    "        beta_u = tf.nn.embedding_lookup(self.betaU, u)\n",
    "        \n",
    "        beta_i = tf.nn.embedding_lookup(self.betaI, i)\n",
    "        gamma_u = tf.nn.embedding_lookup(self.gammaU, u)\n",
    "        gamma_i = tf.nn.embedding_lookup(self.gammaI, i)\n",
    "        pred = self.alpha + beta_u + beta_i +\\\n",
    "               tf.reduce_sum(tf.multiply(gamma_u, gamma_i), 1)\n",
    "        return pred\n",
    "    \n",
    "    # Loss\n",
    "    def call(self, sampleU, sampleI, sampleR):\n",
    "        pred = self.predictSample(sampleU, sampleI)\n",
    "        r = tf.convert_to_tensor(sampleR, dtype=tf.float32)\n",
    "        return tf.nn.l2_loss(pred - r) / len(sampleR)\n",
    "\n",
    "# %%\n",
    "def trainingStep(model, small, fit, large):\n",
    "    Nsamples =30000\n",
    "    with tf.GradientTape() as tape:\n",
    "        sampleU, sampleI, sampleR = [], [], []\n",
    "        for _ in range(Nsamples//3):\n",
    "\n",
    "            u,i,r = random.choice(small)\n",
    "            sampleU.append(userIDs[u])\n",
    "            sampleI.append(itemIDs[i])\n",
    "            sampleR.append(r)\n",
    "\n",
    "            u,i,r = random.choice(fit)\n",
    "            sampleU.append(userIDs[u])\n",
    "            sampleI.append(itemIDs[i])\n",
    "            sampleR.append(r)\n",
    "    \n",
    "            u,i,r = random.choice(large)\n",
    "            sampleU.append(userIDs[u])\n",
    "            sampleI.append(itemIDs[i])\n",
    "            sampleR.append(r)\n",
    "\n",
    "        loss = model(sampleU,sampleI,sampleR)\n",
    "        loss += model.reg()\n",
    "    gradients = tape.gradient(loss, model.trainable_variables)\n",
    "    optimizer.apply_gradients((grad, var) for\n",
    "                              (grad, var) in zip(gradients, model.trainable_variables)\n",
    "                              if grad is not None)\n",
    "    return loss.numpy()\n",
    "\n",
    "# %%\n",
    "modelLFM = LatentFactorModel(mean_fitting, 5, 0.000008,0.000038)\n",
    "\n",
    "# spliting the training based on fit:\n",
    "\n",
    "small, fit, large = [], [], []\n",
    "\n",
    "for u,i,r in interactionsTrain:\n",
    "    if r == 1:\n",
    "        small.append((u,i,r))\n",
    "    elif r == 3:\n",
    "        fit.append((u,i,r))\n",
    "    elif r == 5:\n",
    "        large.append((u,i,r))\n",
    "\n"
   ]
  },
  {
   "cell_type": "code",
   "execution_count": 25,
   "metadata": {},
   "outputs": [
    {
     "name": "stdout",
     "output_type": "stream",
     "text": [
      "iteration 10, objective = 1.2770847\n",
      "iteration 20, objective = 1.2170435\n",
      "iteration 30, objective = 1.1564739\n",
      "iteration 40, objective = 1.0926124\n",
      "iteration 50, objective = 1.02678\n",
      "iteration 60, objective = 0.9563504\n",
      "iteration 70, objective = 0.8879118\n",
      "iteration 80, objective = 0.81901586\n",
      "iteration 90, objective = 0.7564933\n",
      "iteration 100, objective = 0.70432204\n",
      "iteration 110, objective = 0.65467095\n",
      "iteration 120, objective = 0.62350404\n",
      "iteration 130, objective = 0.5925939\n",
      "iteration 140, objective = 0.5696521\n",
      "iteration 150, objective = 0.5528252\n",
      "iteration 160, objective = 0.5396703\n",
      "iteration 170, objective = 0.52932847\n",
      "iteration 180, objective = 0.52063406\n",
      "iteration 190, objective = 0.5098735\n",
      "iteration 200, objective = 0.50034237\n",
      "iteration 210, objective = 0.49258602\n",
      "iteration 220, objective = 0.489555\n",
      "iteration 230, objective = 0.48405004\n",
      "iteration 240, objective = 0.47997808\n",
      "iteration 250, objective = 0.47181076\n",
      "iteration 260, objective = 0.46750742\n",
      "iteration 270, objective = 0.461969\n",
      "iteration 280, objective = 0.4594581\n",
      "iteration 290, objective = 0.45726892\n",
      "iteration 300, objective = 0.4518603\n",
      "iteration 310, objective = 0.44687808\n",
      "iteration 320, objective = 0.44466412\n",
      "iteration 330, objective = 0.44135195\n",
      "iteration 340, objective = 0.4375635\n",
      "iteration 350, objective = 0.43556604\n",
      "iteration 360, objective = 0.43309784\n",
      "iteration 370, objective = 0.43242806\n",
      "iteration 380, objective = 0.4259265\n",
      "iteration 390, objective = 0.4249055\n",
      "iteration 400, objective = 0.42190015\n",
      "iteration 410, objective = 0.42188674\n",
      "iteration 420, objective = 0.41844803\n",
      "iteration 430, objective = 0.41471684\n",
      "iteration 440, objective = 0.41332594\n",
      "iteration 450, objective = 0.41051942\n",
      "iteration 460, objective = 0.4089498\n",
      "iteration 470, objective = 0.40731525\n",
      "iteration 480, objective = 0.40498307\n",
      "iteration 490, objective = 0.4059078\n",
      "iteration 500, objective = 0.40398338\n",
      "iteration 510, objective = 0.40393525\n",
      "iteration 520, objective = 0.40034944\n",
      "iteration 530, objective = 0.39958152\n",
      "iteration 540, objective = 0.397998\n",
      "iteration 550, objective = 0.39807552\n",
      "iteration 560, objective = 0.39406574\n",
      "iteration 570, objective = 0.39346614\n",
      "iteration 580, objective = 0.39276356\n",
      "iteration 590, objective = 0.39307666\n",
      "iteration 600, objective = 0.39191252\n",
      "iteration 610, objective = 0.3913344\n",
      "iteration 620, objective = 0.3915341\n",
      "iteration 630, objective = 0.39053822\n",
      "iteration 640, objective = 0.38904482\n",
      "iteration 650, objective = 0.38672668\n",
      "iteration 660, objective = 0.38654187\n",
      "iteration 670, objective = 0.38499957\n",
      "iteration 680, objective = 0.38613418\n",
      "iteration 690, objective = 0.38384485\n",
      "iteration 700, objective = 0.38453194\n",
      "iteration 710, objective = 0.38389465\n",
      "iteration 720, objective = 0.3832948\n",
      "iteration 730, objective = 0.38429183\n",
      "iteration 740, objective = 0.38038576\n",
      "iteration 750, objective = 0.38143814\n",
      "iteration 760, objective = 0.38089895\n",
      "iteration 770, objective = 0.3775933\n",
      "iteration 780, objective = 0.3807294\n",
      "iteration 790, objective = 0.380986\n",
      "iteration 800, objective = 0.37851548\n",
      "iteration 810, objective = 0.37989926\n",
      "iteration 820, objective = 0.3789263\n",
      "iteration 830, objective = 0.37723494\n",
      "iteration 840, objective = 0.37987036\n",
      "iteration 850, objective = 0.3775683\n",
      "iteration 860, objective = 0.37589526\n",
      "iteration 870, objective = 0.3760612\n",
      "iteration 880, objective = 0.37601516\n",
      "iteration 890, objective = 0.376136\n",
      "iteration 900, objective = 0.3757676\n",
      "iteration 910, objective = 0.37401408\n",
      "iteration 920, objective = 0.37446824\n",
      "iteration 930, objective = 0.3763326\n",
      "iteration 940, objective = 0.3738891\n",
      "iteration 950, objective = 0.3735435\n",
      "iteration 960, objective = 0.37423795\n",
      "iteration 970, objective = 0.37604085\n",
      "iteration 980, objective = 0.37414926\n",
      "iteration 990, objective = 0.37241328\n",
      "iteration 1000, objective = 0.3749052\n",
      "iteration 1010, objective = 0.37014443\n",
      "iteration 1020, objective = 0.37408265\n",
      "iteration 1030, objective = 0.3741482\n",
      "iteration 1040, objective = 0.3729366\n",
      "iteration 1050, objective = 0.37530363\n",
      "iteration 1060, objective = 0.37298113\n",
      "iteration 1070, objective = 0.37247014\n",
      "iteration 1080, objective = 0.3732103\n",
      "iteration 1090, objective = 0.37137878\n",
      "iteration 1100, objective = 0.36855\n",
      "iteration 1110, objective = 0.37128377\n",
      "iteration 1120, objective = 0.37237656\n",
      "iteration 1130, objective = 0.3721847\n",
      "iteration 1140, objective = 0.36960465\n",
      "iteration 1150, objective = 0.37143296\n",
      "iteration 1160, objective = 0.37093568\n",
      "iteration 1170, objective = 0.36925548\n",
      "iteration 1180, objective = 0.37053603\n",
      "iteration 1190, objective = 0.37091094\n",
      "iteration 1200, objective = 0.36918038\n",
      "iteration 1210, objective = 0.37111002\n",
      "iteration 1220, objective = 0.3728494\n",
      "iteration 1230, objective = 0.37000477\n",
      "iteration 1240, objective = 0.36935842\n",
      "iteration 1250, objective = 0.36964083\n",
      "iteration 1260, objective = 0.3680643\n",
      "iteration 1270, objective = 0.36970818\n",
      "iteration 1280, objective = 0.37141705\n",
      "iteration 1290, objective = 0.3716656\n",
      "iteration 1300, objective = 0.3684041\n",
      "iteration 1310, objective = 0.3707292\n",
      "iteration 1320, objective = 0.3698372\n",
      "iteration 1330, objective = 0.36789554\n",
      "iteration 1340, objective = 0.36956137\n",
      "iteration 1350, objective = 0.37028933\n",
      "iteration 1360, objective = 0.3698849\n",
      "iteration 1370, objective = 0.3676111\n",
      "iteration 1380, objective = 0.36808512\n",
      "iteration 1390, objective = 0.3708037\n",
      "iteration 1400, objective = 0.36827046\n",
      "iteration 1410, objective = 0.37039727\n",
      "iteration 1420, objective = 0.3673346\n",
      "iteration 1430, objective = 0.3711493\n",
      "iteration 1440, objective = 0.36652178\n",
      "iteration 1450, objective = 0.36944723\n",
      "iteration 1460, objective = 0.36941957\n",
      "iteration 1470, objective = 0.3726976\n",
      "iteration 1480, objective = 0.36837313\n",
      "iteration 1490, objective = 0.37028486\n",
      "iteration 1500, objective = 0.3679616\n"
     ]
    }
   ],
   "source": [
    "\n",
    "for i in range(1500):\n",
    "    obj = trainingStep(modelLFM, small, fit,large)\n",
    "    if (i % 10 == 9): print(\"iteration \" + str(i+1) + \", objective = \" + str(obj))\n"
   ]
  },
  {
   "cell_type": "code",
   "execution_count": null,
   "metadata": {},
   "outputs": [],
   "source": [
    "for i in range(2):\n",
    "    obj = trainingStep(modelLFM, interactionsTrain)\n",
    "    if (i % 10 == 9): print(\"iteration \" + str(i+1) + \", objective = \" + str(obj))"
   ]
  },
  {
   "cell_type": "code",
   "execution_count": 26,
   "metadata": {
    "collapsed": true
   },
   "outputs": [
    {
     "name": "stdout",
     "output_type": "stream",
     "text": [
      "0.667319679430098\n"
     ]
    }
   ],
   "source": [
    "def out_to_fit(x):\n",
    "    if x <=2:\n",
    "        return 1\n",
    "    elif x <= 4:\n",
    "        return 3\n",
    "    else:\n",
    "        return 5\n",
    "correct = 0 \n",
    "for u,i,f in interactionsTest:\n",
    "    if f == out_to_fit(modelLFM.predict(userIDs[u],itemIDs[i]).numpy()):\n",
    "        correct += 1 \n",
    "\n",
    "print(correct / len(interactionsTest))\n"
   ]
  },
  {
   "cell_type": "code",
   "execution_count": 27,
   "metadata": {},
   "outputs": [],
   "source": [
    "def average_auc_score(test):\n",
    "    pred = []\n",
    "    target = []\n",
    "\n",
    "    for u,i,f in test:\n",
    "        pred.append(modelLFM.predict(userIDs[u],itemIDs[i]).numpy())\n",
    "        target.append(f)\n",
    "\n",
    "    pred_prob = np.zeros((len(test),3))\n",
    "    for val_ind in range(len(pred)):\n",
    "        val = pred[val_ind]\n",
    "        prob1 = (2.505/np.sqrt(2*np.pi))*np.exp(-0.5*((val-1)/0.85)**2)\n",
    "        prob2 = (2.505/np.sqrt(2*np.pi))*np.exp(-0.5*((val-3)/0.85)**2)\n",
    "        prob3 = (2.505/np.sqrt(2*np.pi))*np.exp(-0.5*((val-5)/0.85)**2)\n",
    "        sum_ = prob1 + prob2 + prob3\n",
    "\n",
    "        pred_prob[val_ind][0] = prob1/sum_\n",
    "        pred_prob[val_ind][1] = prob2/sum_\n",
    "        pred_prob[val_ind][2] = prob3/sum_\n",
    "    AUC = []\n",
    "    target_map = [1,3,5]\n",
    "    legend_map = ['small','fit','large']\n",
    "    for i in range(3):\n",
    "        target_sp = []\n",
    "        for t in target: \n",
    "            if t == target_map[i]:\n",
    "                target_sp.append(1)\n",
    "            else:\n",
    "                target_sp.append(0)\n",
    "        AUC.append(roc_auc_score(target_sp, pred_prob[:,i], average='weighted'))\n",
    "\n",
    "        fpr, tpr, thresholds = roc_curve(target_sp, pred_prob[:,i])\n",
    "        plt.plot(fpr, tpr, label=legend_map[i])\n",
    "    plt.xlabel('False Positive Rate')\n",
    "    plt.ylabel('True Positive Rate')\n",
    "    plt.legend()\n",
    "    plt.savefig('AUC.png')\n",
    "\n",
    "    return np.mean(np.array(AUC))\n"
   ]
  },
  {
   "cell_type": "code",
   "execution_count": 28,
   "metadata": {},
   "outputs": [
    {
     "data": {
      "text/plain": [
       "0.7167535419727363"
      ]
     },
     "execution_count": 28,
     "metadata": {},
     "output_type": "execute_result"
    },
    {
     "data": {
      "image/png": "[encoded data removed]",
      "text/plain": [
       "<Figure size 432x288 with 1 Axes>"
      ]
     },
     "metadata": {
      "needs_background": "light"
     },
     "output_type": "display_data"
    }
   ],
   "source": [
    "average_auc_score(interactionsTest)"
   ]
  },
  {
   "cell_type": "code",
   "execution_count": null,
   "metadata": {},
   "outputs": [],
   "source": []
  },
  {
   "cell_type": "code",
   "execution_count": 44,
   "metadata": {},
   "outputs": [
    {
     "data": {
      "text/plain": [
       "False"
      ]
     },
     "execution_count": 44,
     "metadata": {},
     "output_type": "execute_result"
    }
   ],
   "source": [
    "import torch\n",
    "torch.cuda.is_available()\n"
   ]
  },
  {
   "cell_type": "code",
   "execution_count": 45,
   "metadata": {},
   "outputs": [
    {
     "name": "stdout",
     "output_type": "stream",
     "text": [
      "^C\n"
     ]
    }
   ],
   "source": [
    "!conda install pytorch torchvision torchaudio pytorch-cuda=11.6 -c pytorch -c nvidia"
   ]
  },
  {
   "cell_type": "code",
   "execution_count": null,
   "metadata": {},
   "outputs": [],
   "source": []
  }
 ],
 "metadata": {
  "kernelspec": {
   "display_name": "Python 3.9.7 ('base')",
   "language": "python",
   "name": "python3"
  },
  "language_info": {
   "codemirror_mode": {
    "name": "ipython",
    "version": 3
   },
   "file_extension": ".py",
   "mimetype": "text/x-python",
   "name": "python",
   "nbconvert_exporter": "python",
   "pygments_lexer": "ipython3",
   "version": "3.9.7"
  },
  "vscode": {
   "interpreter": {
    "hash": "ad2bdc8ecc057115af97d19610ffacc2b4e99fae6737bb82f5d7fb13d2f2c186"
   }
  }
 },
 "nbformat": 4,
 "nbformat_minor": 2
}
